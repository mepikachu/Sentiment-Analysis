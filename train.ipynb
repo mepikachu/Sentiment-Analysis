{
 "cells": [
  {
   "cell_type": "code",
   "execution_count": 1,
   "metadata": {},
   "outputs": [
    {
     "name": "stdout",
     "output_type": "stream",
     "text": [
      "Loading dataset...\n",
      "Dataset loaded and converted to vector\n"
     ]
    }
   ],
   "source": [
    "import pandas as pd\n",
    "from sklearn.feature_extraction.text import TfidfVectorizer\n",
    "from sklearn.ensemble import GradientBoostingClassifier\n",
    "from sklearn.multiclass import OneVsRestClassifier\n",
    "from sklearn.metrics import accuracy_score, f1_score, precision_score, recall_score\n",
    "import joblib # for saving the model\n",
    "\n",
    "# Loading the dataset\n",
    "print(\"Loading dataset...\")\n",
    "df_train = pd.read_csv('data/train.csv')\n",
    "df_test = pd.read_csv('data/test.csv')\n",
    "\n",
    "# Combine all toxic labels into one\n",
    "df_train['label'] = df_train[['toxic', 'severe_toxic', 'obscene', 'threat', 'insult', 'identity_hate']].max(axis=1)\n",
    "df_test['label'] = df_test[['toxic', 'severe_toxic', 'obscene', 'threat', 'insult', 'identity_hate']].max(axis=1)\n",
    "\n",
    "# Convert text data to TF-IDF features\n",
    "vectorizer = TfidfVectorizer(max_features=20000, ngram_range=(1, 2))\n",
    "X_train = vectorizer.fit_transform(df_train['comment_text'])\n",
    "Y_train = df_train[['toxic', 'severe_toxic', 'obscene', 'threat', 'insult', 'identity_hate']]\n",
    "X_test = vectorizer.transform(df_test['comment_text'])\n",
    "Y_test = df_test[['toxic', 'severe_toxic', 'obscene', 'threat', 'insult', 'identity_hate']]\n",
    "\n",
    "with open('models/vectorizer.pkl', 'wb') as f:\n",
    "    joblib.dump(tokenizer, f)\n",
    "print(\"Dataset loaded and converted to vector\")"
   ]
  },
  {
   "cell_type": "code",
   "execution_count": 2,
   "metadata": {},
   "outputs": [
    {
     "name": "stdout",
     "output_type": "stream",
     "text": [
      "Training model...\n",
      "Model training complete.\n",
      "Evaluating model on the train dataset...\n",
      "Accuracy(train): 0.9102092485476684\n",
      "F1 Score(train): 0.47319865032247044\n",
      "Precision(train): 0.944662346521146\n",
      "Recall(train): 0.3156590119095105\n",
      "\n",
      "Evaluating model on the test dataset...\n",
      "Accuracy(test): 0.9058394923088976\n",
      "F1 Score(test): 0.20469187484709273\n",
      "Precision(test): 0.16891740320337387\n",
      "Recall(test): 0.25969099186094635\n"
     ]
    }
   ],
   "source": [
    "print(\"Training model...\")\n",
    "# Train a Gradient Boosting model for multi-label classification\n",
    "base_model = GradientBoostingClassifier(n_estimators=10, learning_rate=0.1, max_depth=5, random_state=42)\n",
    "model = OneVsRestClassifier(base_model)\n",
    "\n",
    "model.fit(X_train, Y_train)\n",
    "\n",
    "joblib.dump(model, 'models/toxic_classifier.pkl') # save the model\n",
    "print(\"Model training complete.\")\n",
    "\n",
    "# Evaluate the model\n",
    "print(\"Evaluating model on the train dataset...\")\n",
    "Y_pred = model.predict(X_train)\n",
    "accuracy = accuracy_score(Y_train, Y_pred)\n",
    "f1 = f1_score(Y_train, Y_pred, average='micro')\n",
    "precision = precision_score(Y_train, Y_pred, average='micro')\n",
    "recall = recall_score(Y_train, Y_pred, average='micro')\n",
    "print(f\"Accuracy(train): {accuracy}\")\n",
    "print(f\"F1 Score(train): {f1}\")\n",
    "print(f\"Precision(train): {precision}\")\n",
    "print(f\"Recall(train): {recall}\")\n",
    "\n",
    "print(\"\")\n",
    "\n",
    "print(\"Evaluating model on the test dataset...\")\n",
    "Y_pred = model.predict(X_test)\n",
    "accuracy = accuracy_score(Y_test, Y_pred)\n",
    "f1 = f1_score(Y_test, Y_pred, average='micro')\n",
    "precision = precision_score(Y_test, Y_pred, average='micro')\n",
    "recall = recall_score(Y_test, Y_pred, average='micro')\n",
    "print(f\"Accuracy(test): {accuracy}\")\n",
    "print(f\"F1 Score(test): {f1}\")\n",
    "print(f\"Precision(test): {precision}\")\n",
    "print(f\"Recall(test): {recall}\")"
   ]
  },
  {
   "cell_type": "code",
   "execution_count": 1,
   "metadata": {},
   "outputs": [
    {
     "name": "stdout",
     "output_type": "stream",
     "text": [
      "Classifying example comments...\n",
      "Comment: I really love this!\n",
      "Labels: [0 0 0 0 0 0]\n",
      "\n",
      "Comment: This is the worst thing ever.\n",
      "Labels: [0 0 0 0 0 0]\n",
      "\n",
      "Comment: You are an idiot and should be banned!\n",
      "Labels: [0 0 0 0 0 0]\n",
      "\n",
      "Comment: The government needs to address this issue.\n",
      "Labels: [0 0 0 0 0 0]\n",
      "\n",
      "Comment: You fucking idiot, I am gonna make you suffer.\n",
      "Labels: [1 0 1 0 1 0]\n",
      "\n",
      "Comment: that's fucking awesome.\n",
      "Labels: [1 0 1 0 0 0]\n",
      "\n"
     ]
    }
   ],
   "source": [
    "# Making predictions using the model\n",
    "import joblib \n",
    "\n",
    "model = joblib.load('models/toxic_classifier.pkl')\n",
    "vectorizer = joblib.load('models/vectorizer.pkl')\n",
    "def predict(comment):\n",
    "    comment_vector = vectorizer.transform([comment])\n",
    "    prediction = model.predict(comment_vector)\n",
    "    return prediction[0]\n",
    "\n",
    "comments = [\n",
    "    \"I really love this!\",\n",
    "    \"This is the worst thing ever.\",\n",
    "    \"You are an idiot and should be banned!\",\n",
    "    \"The government needs to address this issue.\",\n",
    "    \"You fucking idiot, I am gonna make you suffer.\",\n",
    "    \"that's fucking awesome.\"\n",
    "]\n",
    "\n",
    "print(\"Classifying example comments...\")\n",
    "for comment in comments:\n",
    "    labels = predict(comment)\n",
    "    print(f\"Comment: {comment}\\nLabels: {labels}\\n\")    "
   ]
  },
  {
   "cell_type": "code",
   "execution_count": null,
   "metadata": {},
   "outputs": [],
   "source": []
  }
 ],
 "metadata": {
  "kernelspec": {
   "display_name": "Python 3",
   "language": "python",
   "name": "python3"
  },
  "language_info": {
   "codemirror_mode": {
    "name": "ipython",
    "version": 3
   },
   "file_extension": ".py",
   "mimetype": "text/x-python",
   "name": "python",
   "nbconvert_exporter": "python",
   "pygments_lexer": "ipython3",
   "version": "3.12.3"
  }
 },
 "nbformat": 4,
 "nbformat_minor": 2
}
